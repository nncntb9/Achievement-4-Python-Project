{
 "cells": [
  {
   "cell_type": "markdown",
   "id": "59d98230-48f2-49a1-8cc1-e0430237fbe4",
   "metadata": {},
   "source": [
    "# 4.9: Intro to Data Visualization with Python"
   ]
  },
  {
   "cell_type": "markdown",
   "id": "f03e94df-df6d-4d63-a11a-16298cb0fbfb",
   "metadata": {},
   "source": [
    "# Part 1"
   ]
  },
  {
   "cell_type": "markdown",
   "id": "b246d7cc-b4f1-4900-a066-2aa46c6a3909",
   "metadata": {},
   "source": [
    "## This scripts contains the following:\n",
    "### 1. importing customer data & wrangling\n",
    "### 2. data quality and consistency checks\n",
    "### 3. merging customer data and prepared data\n",
    "### 4. exporting merged dataframe"
   ]
  },
  {
   "cell_type": "code",
   "execution_count": 5,
   "id": "1ba13693-03d5-46cb-a285-ba0db6e3aa36",
   "metadata": {},
   "outputs": [],
   "source": [
    "#importing libraries and analysis tools\n",
    "import pandas as pd\n",
    "import numpy as np\n",
    "import os\n",
    "import matplotlib.pyplot as plt\n",
    "import seaborn as sns\n",
    "import scipy"
   ]
  },
  {
   "cell_type": "markdown",
   "id": "bde3aa79-04f3-4598-a699-55659ecd2f0a",
   "metadata": {},
   "source": [
    "### 1. importing customer data and wrangling"
   ]
  },
  {
   "cell_type": "code",
   "execution_count": 14,
   "id": "eec04f44-8d80-4c47-83b7-0684537b9d36",
   "metadata": {},
   "outputs": [],
   "source": [
    "#import customer original data"
   ]
  },
  {
   "cell_type": "code",
   "execution_count": 3,
   "id": "4b6a6916-5686-4f60-9890-5b448cdf24dd",
   "metadata": {},
   "outputs": [],
   "source": [
    "path = r'C:/Users/LocalAdmin/Instacart Basket Analysis'"
   ]
  },
  {
   "cell_type": "code",
   "execution_count": 19,
   "id": "3c6120a6-82eb-4acf-b5c2-585e2a879a8f",
   "metadata": {},
   "outputs": [
    {
     "data": {
      "text/plain": [
       "'C:/Users/LocalAdmin/Instacart Basket Analysis'"
      ]
     },
     "execution_count": 19,
     "metadata": {},
     "output_type": "execute_result"
    }
   ],
   "source": [
    "path"
   ]
  },
  {
   "cell_type": "code",
   "execution_count": 5,
   "id": "0d155757-59f0-426d-bde5-76e41d1c2949",
   "metadata": {},
   "outputs": [],
   "source": [
    "customers = pd.read_csv(os.path.join(path,'02 Data', 'Original Data', 'customers.csv'))"
   ]
  },
  {
   "cell_type": "code",
   "execution_count": 7,
   "id": "909d00d5-bb51-421c-85b8-643a19d6dc33",
   "metadata": {},
   "outputs": [
    {
     "data": {
      "text/plain": [
       "(206209, 10)"
      ]
     },
     "execution_count": 7,
     "metadata": {},
     "output_type": "execute_result"
    }
   ],
   "source": [
    "#Shape for the customer dataframe\n",
    "customers.shape"
   ]
  },
  {
   "cell_type": "code",
   "execution_count": 21,
   "id": "d8ea5e56-c276-43e6-88a1-3e62cfa28821",
   "metadata": {},
   "outputs": [
    {
     "data": {
      "text/html": [
       "<div>\n",
       "<style scoped>\n",
       "    .dataframe tbody tr th:only-of-type {\n",
       "        vertical-align: middle;\n",
       "    }\n",
       "\n",
       "    .dataframe tbody tr th {\n",
       "        vertical-align: top;\n",
       "    }\n",
       "\n",
       "    .dataframe thead th {\n",
       "        text-align: right;\n",
       "    }\n",
       "</style>\n",
       "<table border=\"1\" class=\"dataframe\">\n",
       "  <thead>\n",
       "    <tr style=\"text-align: right;\">\n",
       "      <th></th>\n",
       "      <th>user_id</th>\n",
       "      <th>First Name</th>\n",
       "      <th>Surnam</th>\n",
       "      <th>Gender</th>\n",
       "      <th>STATE</th>\n",
       "      <th>Age</th>\n",
       "      <th>date_joined</th>\n",
       "      <th>n_dependants</th>\n",
       "      <th>fam_status</th>\n",
       "      <th>income</th>\n",
       "    </tr>\n",
       "  </thead>\n",
       "  <tbody>\n",
       "    <tr>\n",
       "      <th>0</th>\n",
       "      <td>26711</td>\n",
       "      <td>Deborah</td>\n",
       "      <td>Esquivel</td>\n",
       "      <td>Female</td>\n",
       "      <td>Missouri</td>\n",
       "      <td>48</td>\n",
       "      <td>1/1/2017</td>\n",
       "      <td>3</td>\n",
       "      <td>married</td>\n",
       "      <td>165665</td>\n",
       "    </tr>\n",
       "    <tr>\n",
       "      <th>1</th>\n",
       "      <td>33890</td>\n",
       "      <td>Patricia</td>\n",
       "      <td>Hart</td>\n",
       "      <td>Female</td>\n",
       "      <td>New Mexico</td>\n",
       "      <td>36</td>\n",
       "      <td>1/1/2017</td>\n",
       "      <td>0</td>\n",
       "      <td>single</td>\n",
       "      <td>59285</td>\n",
       "    </tr>\n",
       "    <tr>\n",
       "      <th>2</th>\n",
       "      <td>65803</td>\n",
       "      <td>Kenneth</td>\n",
       "      <td>Farley</td>\n",
       "      <td>Male</td>\n",
       "      <td>Idaho</td>\n",
       "      <td>35</td>\n",
       "      <td>1/1/2017</td>\n",
       "      <td>2</td>\n",
       "      <td>married</td>\n",
       "      <td>99568</td>\n",
       "    </tr>\n",
       "    <tr>\n",
       "      <th>3</th>\n",
       "      <td>125935</td>\n",
       "      <td>Michelle</td>\n",
       "      <td>Hicks</td>\n",
       "      <td>Female</td>\n",
       "      <td>Iowa</td>\n",
       "      <td>40</td>\n",
       "      <td>1/1/2017</td>\n",
       "      <td>0</td>\n",
       "      <td>single</td>\n",
       "      <td>42049</td>\n",
       "    </tr>\n",
       "    <tr>\n",
       "      <th>4</th>\n",
       "      <td>130797</td>\n",
       "      <td>Ann</td>\n",
       "      <td>Gilmore</td>\n",
       "      <td>Female</td>\n",
       "      <td>Maryland</td>\n",
       "      <td>26</td>\n",
       "      <td>1/1/2017</td>\n",
       "      <td>1</td>\n",
       "      <td>married</td>\n",
       "      <td>40374</td>\n",
       "    </tr>\n",
       "  </tbody>\n",
       "</table>\n",
       "</div>"
      ],
      "text/plain": [
       "  user_id First Name    Surnam  Gender       STATE  Age date_joined  \\\n",
       "0   26711    Deborah  Esquivel  Female    Missouri   48    1/1/2017   \n",
       "1   33890   Patricia      Hart  Female  New Mexico   36    1/1/2017   \n",
       "2   65803    Kenneth    Farley    Male       Idaho   35    1/1/2017   \n",
       "3  125935   Michelle     Hicks  Female        Iowa   40    1/1/2017   \n",
       "4  130797        Ann   Gilmore  Female    Maryland   26    1/1/2017   \n",
       "\n",
       "   n_dependants fam_status  income  \n",
       "0             3    married  165665  \n",
       "1             0     single   59285  \n",
       "2             2    married   99568  \n",
       "3             0     single   42049  \n",
       "4             1    married   40374  "
      ]
     },
     "execution_count": 21,
     "metadata": {},
     "output_type": "execute_result"
    }
   ],
   "source": [
    "#checking the head for customers dataframe\n",
    "customers.head()"
   ]
  },
  {
   "cell_type": "code",
   "execution_count": 34,
   "id": "f22bfe4c-d574-4714-bc18-7d0a428f77f7",
   "metadata": {},
   "outputs": [],
   "source": [
    "#Question 4: Wrangle the data so that it follows consistent logic; for example, rename columns with illogical names and drop columns that don’t add anything to your analysis."
   ]
  },
  {
   "cell_type": "code",
   "execution_count": 9,
   "id": "7517f8ca-8808-4246-9fe2-c49a253db64e",
   "metadata": {},
   "outputs": [
    {
     "data": {
      "text/plain": [
       "user_id          int64\n",
       "First Name      object\n",
       "Surnam          object\n",
       "Gender          object\n",
       "STATE           object\n",
       "Age              int64\n",
       "date_joined     object\n",
       "n_dependants     int64\n",
       "fam_status      object\n",
       "income           int64\n",
       "dtype: object"
      ]
     },
     "execution_count": 9,
     "metadata": {},
     "output_type": "execute_result"
    }
   ],
   "source": [
    "#check the datatype for each column\n",
    "customers.dtypes"
   ]
  },
  {
   "cell_type": "markdown",
   "id": "d6e20c79-3559-49fa-8847-5dc90446cff9",
   "metadata": {},
   "source": [
    "User_id must bechnaged to an object as its summary stats are meaningless as the user_id is only an identifier for a user"
   ]
  },
  {
   "cell_type": "code",
   "execution_count": null,
   "id": "8a84f977-5a5c-4079-9f05-2a3303954a80",
   "metadata": {},
   "outputs": [],
   "source": [
    "#changing datatype for user_id to string (object)\n"
   ]
  },
  {
   "cell_type": "code",
   "execution_count": 11,
   "id": "2fae7bc1-779f-45fa-b554-1aa5f038966c",
   "metadata": {},
   "outputs": [],
   "source": [
    "# Changing datatype for user_id from integer to string or object\n",
    "customers['user_id'] = customers['user_id'].astype('str')"
   ]
  },
  {
   "cell_type": "code",
   "execution_count": 13,
   "id": "ee3c820a-de96-48c2-96f2-47455d09bc29",
   "metadata": {},
   "outputs": [
    {
     "data": {
      "text/plain": [
       "user_id         object\n",
       "First Name      object\n",
       "Surnam          object\n",
       "Gender          object\n",
       "STATE           object\n",
       "Age              int64\n",
       "date_joined     object\n",
       "n_dependants     int64\n",
       "fam_status      object\n",
       "income           int64\n",
       "dtype: object"
      ]
     },
     "execution_count": 13,
     "metadata": {},
     "output_type": "execute_result"
    }
   ],
   "source": [
    "#checking if user_id is now a string\n",
    "customers.dtypes"
   ]
  },
  {
   "cell_type": "code",
   "execution_count": 15,
   "id": "ccd5f21f-0f4a-49bc-95e4-215aa53ae9a4",
   "metadata": {},
   "outputs": [
    {
     "name": "stdout",
     "output_type": "stream",
     "text": [
      "First Name\n"
     ]
    }
   ],
   "source": [
    "# Checking if there is mixed datatypes in the different columns\n",
    "for col in customers.columns.tolist():\n",
    "  weird = (customers[[col]].map(type) != customers[[col]].iloc[0].apply(type)).any(axis = 1)\n",
    "  if len (customers[weird]) > 0:\n",
    "    print (col)"
   ]
  },
  {
   "cell_type": "code",
   "execution_count": 23,
   "id": "a7c34621-3f32-440c-907b-0283edeacf38",
   "metadata": {},
   "outputs": [],
   "source": [
    "# Proceed to make 'first_name' a string\n",
    "customers['First Name'] = customers['First Name'].astype('str')"
   ]
  },
  {
   "cell_type": "code",
   "execution_count": 25,
   "id": "4b2e501d-9981-4291-980d-974015cf9623",
   "metadata": {},
   "outputs": [],
   "source": [
    "# Checking if there is mixed datatypes in the different columns\n",
    "for col in customers.columns.tolist():\n",
    "  weird = (customers[[col]].map(type) != customers[[col]].iloc[0].apply(type)).any(axis = 1)\n",
    "  if len (customers[weird]) > 0:\n",
    "    print (col)"
   ]
  },
  {
   "cell_type": "markdown",
   "id": "cde7fb00-beb5-4713-93a3-0a9b1750cb71",
   "metadata": {},
   "source": [
    "No mixed datatypes for each column"
   ]
  },
  {
   "cell_type": "code",
   "execution_count": 29,
   "id": "94469404-e460-4bb3-9c4d-3678e427c220",
   "metadata": {},
   "outputs": [
    {
     "data": {
      "text/html": [
       "<div>\n",
       "<style scoped>\n",
       "    .dataframe tbody tr th:only-of-type {\n",
       "        vertical-align: middle;\n",
       "    }\n",
       "\n",
       "    .dataframe tbody tr th {\n",
       "        vertical-align: top;\n",
       "    }\n",
       "\n",
       "    .dataframe thead th {\n",
       "        text-align: right;\n",
       "    }\n",
       "</style>\n",
       "<table border=\"1\" class=\"dataframe\">\n",
       "  <thead>\n",
       "    <tr style=\"text-align: right;\">\n",
       "      <th></th>\n",
       "      <th>user_id</th>\n",
       "      <th>First Name</th>\n",
       "      <th>Surnam</th>\n",
       "      <th>Gender</th>\n",
       "      <th>STATE</th>\n",
       "      <th>Age</th>\n",
       "      <th>date_joined</th>\n",
       "      <th>n_dependants</th>\n",
       "      <th>fam_status</th>\n",
       "      <th>income</th>\n",
       "    </tr>\n",
       "  </thead>\n",
       "  <tbody>\n",
       "    <tr>\n",
       "      <th>0</th>\n",
       "      <td>26711</td>\n",
       "      <td>Deborah</td>\n",
       "      <td>Esquivel</td>\n",
       "      <td>Female</td>\n",
       "      <td>Missouri</td>\n",
       "      <td>48</td>\n",
       "      <td>1/1/2017</td>\n",
       "      <td>3</td>\n",
       "      <td>married</td>\n",
       "      <td>165665</td>\n",
       "    </tr>\n",
       "    <tr>\n",
       "      <th>1</th>\n",
       "      <td>33890</td>\n",
       "      <td>Patricia</td>\n",
       "      <td>Hart</td>\n",
       "      <td>Female</td>\n",
       "      <td>New Mexico</td>\n",
       "      <td>36</td>\n",
       "      <td>1/1/2017</td>\n",
       "      <td>0</td>\n",
       "      <td>single</td>\n",
       "      <td>59285</td>\n",
       "    </tr>\n",
       "    <tr>\n",
       "      <th>2</th>\n",
       "      <td>65803</td>\n",
       "      <td>Kenneth</td>\n",
       "      <td>Farley</td>\n",
       "      <td>Male</td>\n",
       "      <td>Idaho</td>\n",
       "      <td>35</td>\n",
       "      <td>1/1/2017</td>\n",
       "      <td>2</td>\n",
       "      <td>married</td>\n",
       "      <td>99568</td>\n",
       "    </tr>\n",
       "    <tr>\n",
       "      <th>3</th>\n",
       "      <td>125935</td>\n",
       "      <td>Michelle</td>\n",
       "      <td>Hicks</td>\n",
       "      <td>Female</td>\n",
       "      <td>Iowa</td>\n",
       "      <td>40</td>\n",
       "      <td>1/1/2017</td>\n",
       "      <td>0</td>\n",
       "      <td>single</td>\n",
       "      <td>42049</td>\n",
       "    </tr>\n",
       "    <tr>\n",
       "      <th>4</th>\n",
       "      <td>130797</td>\n",
       "      <td>Ann</td>\n",
       "      <td>Gilmore</td>\n",
       "      <td>Female</td>\n",
       "      <td>Maryland</td>\n",
       "      <td>26</td>\n",
       "      <td>1/1/2017</td>\n",
       "      <td>1</td>\n",
       "      <td>married</td>\n",
       "      <td>40374</td>\n",
       "    </tr>\n",
       "  </tbody>\n",
       "</table>\n",
       "</div>"
      ],
      "text/plain": [
       "  user_id First Name    Surnam  Gender       STATE  Age date_joined  \\\n",
       "0   26711    Deborah  Esquivel  Female    Missouri   48    1/1/2017   \n",
       "1   33890   Patricia      Hart  Female  New Mexico   36    1/1/2017   \n",
       "2   65803    Kenneth    Farley    Male       Idaho   35    1/1/2017   \n",
       "3  125935   Michelle     Hicks  Female        Iowa   40    1/1/2017   \n",
       "4  130797        Ann   Gilmore  Female    Maryland   26    1/1/2017   \n",
       "\n",
       "   n_dependants fam_status  income  \n",
       "0             3    married  165665  \n",
       "1             0     single   59285  \n",
       "2             2    married   99568  \n",
       "3             0     single   42049  \n",
       "4             1    married   40374  "
      ]
     },
     "execution_count": 29,
     "metadata": {},
     "output_type": "execute_result"
    }
   ],
   "source": [
    "#I use head to see how the data looks\n",
    "customers.head()"
   ]
  },
  {
   "cell_type": "markdown",
   "id": "5c1cb35a-a534-497f-9ba9-de6809fc49d9",
   "metadata": {},
   "source": [
    "'First Name' must be captured as 'first_name', 'Surnam' must be captured as 'surname', 'Gender' must be captured as 'gender', 'STATE' must be captured as 'state' and 'Age' must be captured as 'age', 'family_status' must be captured as 'marital_status'"
   ]
  },
  {
   "cell_type": "code",
   "execution_count": 31,
   "id": "e0fa6310-4c5f-4677-8999-6720ccd4bcf7",
   "metadata": {},
   "outputs": [],
   "source": [
    "# Renaming the columns identifed above\n",
    "customers.rename(columns = {'First Name' : 'first_name'}, inplace = True)"
   ]
  },
  {
   "cell_type": "code",
   "execution_count": 33,
   "id": "81a541d3-1458-405b-b8c1-275e680406b8",
   "metadata": {},
   "outputs": [],
   "source": [
    "customers.rename(columns = {'Surnam' : 'surname'}, inplace = True)"
   ]
  },
  {
   "cell_type": "code",
   "execution_count": 35,
   "id": "444d4264-7ea0-40fe-a71e-67ef0216669f",
   "metadata": {},
   "outputs": [],
   "source": [
    "customers.rename(columns = {'Gender' : 'gender'}, inplace = True)"
   ]
  },
  {
   "cell_type": "code",
   "execution_count": 37,
   "id": "0b6cb967-c07a-45df-8776-f782a78f9010",
   "metadata": {},
   "outputs": [],
   "source": [
    "customers.rename(columns = {'Age' : 'age'}, inplace = True)"
   ]
  },
  {
   "cell_type": "code",
   "execution_count": 39,
   "id": "dedeb209-acc6-4de5-bb4d-4e7ec4e12fa1",
   "metadata": {},
   "outputs": [],
   "source": [
    "customers.rename(columns = {'STATE' : 'state'}, inplace = True)"
   ]
  },
  {
   "cell_type": "code",
   "execution_count": 41,
   "id": "3fdae40c-e089-4753-bdbd-702949ad3a51",
   "metadata": {},
   "outputs": [],
   "source": [
    "customers.rename(columns = {'fam_status' : 'marital_status'}, inplace = True)"
   ]
  },
  {
   "cell_type": "code",
   "execution_count": 43,
   "id": "1916ef15-d496-4401-a34b-170b2809dd68",
   "metadata": {},
   "outputs": [
    {
     "data": {
      "text/html": [
       "<div>\n",
       "<style scoped>\n",
       "    .dataframe tbody tr th:only-of-type {\n",
       "        vertical-align: middle;\n",
       "    }\n",
       "\n",
       "    .dataframe tbody tr th {\n",
       "        vertical-align: top;\n",
       "    }\n",
       "\n",
       "    .dataframe thead th {\n",
       "        text-align: right;\n",
       "    }\n",
       "</style>\n",
       "<table border=\"1\" class=\"dataframe\">\n",
       "  <thead>\n",
       "    <tr style=\"text-align: right;\">\n",
       "      <th></th>\n",
       "      <th>user_id</th>\n",
       "      <th>first_name</th>\n",
       "      <th>surname</th>\n",
       "      <th>gender</th>\n",
       "      <th>state</th>\n",
       "      <th>age</th>\n",
       "      <th>date_joined</th>\n",
       "      <th>n_dependants</th>\n",
       "      <th>marital_status</th>\n",
       "      <th>income</th>\n",
       "    </tr>\n",
       "  </thead>\n",
       "  <tbody>\n",
       "    <tr>\n",
       "      <th>0</th>\n",
       "      <td>26711</td>\n",
       "      <td>Deborah</td>\n",
       "      <td>Esquivel</td>\n",
       "      <td>Female</td>\n",
       "      <td>Missouri</td>\n",
       "      <td>48</td>\n",
       "      <td>1/1/2017</td>\n",
       "      <td>3</td>\n",
       "      <td>married</td>\n",
       "      <td>165665</td>\n",
       "    </tr>\n",
       "    <tr>\n",
       "      <th>1</th>\n",
       "      <td>33890</td>\n",
       "      <td>Patricia</td>\n",
       "      <td>Hart</td>\n",
       "      <td>Female</td>\n",
       "      <td>New Mexico</td>\n",
       "      <td>36</td>\n",
       "      <td>1/1/2017</td>\n",
       "      <td>0</td>\n",
       "      <td>single</td>\n",
       "      <td>59285</td>\n",
       "    </tr>\n",
       "    <tr>\n",
       "      <th>2</th>\n",
       "      <td>65803</td>\n",
       "      <td>Kenneth</td>\n",
       "      <td>Farley</td>\n",
       "      <td>Male</td>\n",
       "      <td>Idaho</td>\n",
       "      <td>35</td>\n",
       "      <td>1/1/2017</td>\n",
       "      <td>2</td>\n",
       "      <td>married</td>\n",
       "      <td>99568</td>\n",
       "    </tr>\n",
       "    <tr>\n",
       "      <th>3</th>\n",
       "      <td>125935</td>\n",
       "      <td>Michelle</td>\n",
       "      <td>Hicks</td>\n",
       "      <td>Female</td>\n",
       "      <td>Iowa</td>\n",
       "      <td>40</td>\n",
       "      <td>1/1/2017</td>\n",
       "      <td>0</td>\n",
       "      <td>single</td>\n",
       "      <td>42049</td>\n",
       "    </tr>\n",
       "    <tr>\n",
       "      <th>4</th>\n",
       "      <td>130797</td>\n",
       "      <td>Ann</td>\n",
       "      <td>Gilmore</td>\n",
       "      <td>Female</td>\n",
       "      <td>Maryland</td>\n",
       "      <td>26</td>\n",
       "      <td>1/1/2017</td>\n",
       "      <td>1</td>\n",
       "      <td>married</td>\n",
       "      <td>40374</td>\n",
       "    </tr>\n",
       "  </tbody>\n",
       "</table>\n",
       "</div>"
      ],
      "text/plain": [
       "  user_id first_name   surname  gender       state  age date_joined  \\\n",
       "0   26711    Deborah  Esquivel  Female    Missouri   48    1/1/2017   \n",
       "1   33890   Patricia      Hart  Female  New Mexico   36    1/1/2017   \n",
       "2   65803    Kenneth    Farley    Male       Idaho   35    1/1/2017   \n",
       "3  125935   Michelle     Hicks  Female        Iowa   40    1/1/2017   \n",
       "4  130797        Ann   Gilmore  Female    Maryland   26    1/1/2017   \n",
       "\n",
       "   n_dependants marital_status  income  \n",
       "0             3        married  165665  \n",
       "1             0         single   59285  \n",
       "2             2        married   99568  \n",
       "3             0         single   42049  \n",
       "4             1        married   40374  "
      ]
     },
     "execution_count": 43,
     "metadata": {},
     "output_type": "execute_result"
    }
   ],
   "source": [
    "#Checking head again to see if the column titles have changed\n",
    "customers.head()"
   ]
  },
  {
   "cell_type": "markdown",
   "id": "9228355b-1ef1-4c05-ab36-b6d291b29795",
   "metadata": {},
   "source": [
    "All columns are okay now"
   ]
  },
  {
   "cell_type": "code",
   "execution_count": 45,
   "id": "3a0a55bd-b378-4a99-8182-a15caf6fb2d4",
   "metadata": {},
   "outputs": [
    {
     "data": {
      "text/plain": [
       "(206209, 10)"
      ]
     },
     "execution_count": 45,
     "metadata": {},
     "output_type": "execute_result"
    }
   ],
   "source": [
    "#check the shape for customers dataframe\n",
    "customers.shape"
   ]
  },
  {
   "cell_type": "code",
   "execution_count": 47,
   "id": "3a1c4084-61df-469f-947b-8d5069b2c796",
   "metadata": {},
   "outputs": [
    {
     "data": {
      "text/html": [
       "<div>\n",
       "<style scoped>\n",
       "    .dataframe tbody tr th:only-of-type {\n",
       "        vertical-align: middle;\n",
       "    }\n",
       "\n",
       "    .dataframe tbody tr th {\n",
       "        vertical-align: top;\n",
       "    }\n",
       "\n",
       "    .dataframe thead th {\n",
       "        text-align: right;\n",
       "    }\n",
       "</style>\n",
       "<table border=\"1\" class=\"dataframe\">\n",
       "  <thead>\n",
       "    <tr style=\"text-align: right;\">\n",
       "      <th></th>\n",
       "      <th>age</th>\n",
       "      <th>n_dependants</th>\n",
       "      <th>income</th>\n",
       "    </tr>\n",
       "  </thead>\n",
       "  <tbody>\n",
       "    <tr>\n",
       "      <th>count</th>\n",
       "      <td>206209.000000</td>\n",
       "      <td>206209.000000</td>\n",
       "      <td>206209.000000</td>\n",
       "    </tr>\n",
       "    <tr>\n",
       "      <th>mean</th>\n",
       "      <td>49.501646</td>\n",
       "      <td>1.499823</td>\n",
       "      <td>94632.852548</td>\n",
       "    </tr>\n",
       "    <tr>\n",
       "      <th>std</th>\n",
       "      <td>18.480962</td>\n",
       "      <td>1.118433</td>\n",
       "      <td>42473.786988</td>\n",
       "    </tr>\n",
       "    <tr>\n",
       "      <th>min</th>\n",
       "      <td>18.000000</td>\n",
       "      <td>0.000000</td>\n",
       "      <td>25903.000000</td>\n",
       "    </tr>\n",
       "    <tr>\n",
       "      <th>25%</th>\n",
       "      <td>33.000000</td>\n",
       "      <td>0.000000</td>\n",
       "      <td>59874.000000</td>\n",
       "    </tr>\n",
       "    <tr>\n",
       "      <th>50%</th>\n",
       "      <td>49.000000</td>\n",
       "      <td>1.000000</td>\n",
       "      <td>93547.000000</td>\n",
       "    </tr>\n",
       "    <tr>\n",
       "      <th>75%</th>\n",
       "      <td>66.000000</td>\n",
       "      <td>3.000000</td>\n",
       "      <td>124244.000000</td>\n",
       "    </tr>\n",
       "    <tr>\n",
       "      <th>max</th>\n",
       "      <td>81.000000</td>\n",
       "      <td>3.000000</td>\n",
       "      <td>593901.000000</td>\n",
       "    </tr>\n",
       "  </tbody>\n",
       "</table>\n",
       "</div>"
      ],
      "text/plain": [
       "                 age   n_dependants         income\n",
       "count  206209.000000  206209.000000  206209.000000\n",
       "mean       49.501646       1.499823   94632.852548\n",
       "std        18.480962       1.118433   42473.786988\n",
       "min        18.000000       0.000000   25903.000000\n",
       "25%        33.000000       0.000000   59874.000000\n",
       "50%        49.000000       1.000000   93547.000000\n",
       "75%        66.000000       3.000000  124244.000000\n",
       "max        81.000000       3.000000  593901.000000"
      ]
     },
     "execution_count": 47,
     "metadata": {},
     "output_type": "execute_result"
    }
   ],
   "source": [
    "#Getting summary stats for the customers dataframe\n",
    "customers.describe()"
   ]
  },
  {
   "cell_type": "markdown",
   "id": "02c6bdf8-89b4-48f2-877d-34fc04bddb8a",
   "metadata": {},
   "source": [
    "Summary stats are done for variables or columns whose datatype is numerical, hence all is okay here."
   ]
  },
  {
   "cell_type": "markdown",
   "id": "6d121a86-7554-4eec-926b-d0b9448edc13",
   "metadata": {},
   "source": [
    "####  2. data quality and consistency checks "
   ]
  },
  {
   "cell_type": "code",
   "execution_count": 51,
   "id": "dbf97dd3-4614-4096-981b-b53ab76e99cd",
   "metadata": {},
   "outputs": [
    {
     "data": {
      "text/plain": [
       "user_id           0\n",
       "first_name        0\n",
       "surname           0\n",
       "gender            0\n",
       "state             0\n",
       "age               0\n",
       "date_joined       0\n",
       "n_dependants      0\n",
       "marital_status    0\n",
       "income            0\n",
       "dtype: int64"
      ]
     },
     "execution_count": 51,
     "metadata": {},
     "output_type": "execute_result"
    }
   ],
   "source": [
    "# Check for missing data across the various columns\n",
    "customers.isnull().sum()"
   ]
  },
  {
   "cell_type": "markdown",
   "id": "ad220367-c610-48a9-bb91-c8887424120f",
   "metadata": {},
   "source": [
    "No data is missing for all the columns"
   ]
  },
  {
   "cell_type": "code",
   "execution_count": 53,
   "id": "f4eb6732-0ea3-4c84-8ec7-80d9e2b01668",
   "metadata": {},
   "outputs": [],
   "source": [
    "# Checking the dataset for any duplicates\n",
    "customers_dups = customers[customers.duplicated()]"
   ]
  },
  {
   "cell_type": "code",
   "execution_count": 55,
   "id": "3cf69262-c996-46c0-a378-7b4a6436be55",
   "metadata": {},
   "outputs": [
    {
     "data": {
      "text/html": [
       "<div>\n",
       "<style scoped>\n",
       "    .dataframe tbody tr th:only-of-type {\n",
       "        vertical-align: middle;\n",
       "    }\n",
       "\n",
       "    .dataframe tbody tr th {\n",
       "        vertical-align: top;\n",
       "    }\n",
       "\n",
       "    .dataframe thead th {\n",
       "        text-align: right;\n",
       "    }\n",
       "</style>\n",
       "<table border=\"1\" class=\"dataframe\">\n",
       "  <thead>\n",
       "    <tr style=\"text-align: right;\">\n",
       "      <th></th>\n",
       "      <th>user_id</th>\n",
       "      <th>first_name</th>\n",
       "      <th>surname</th>\n",
       "      <th>gender</th>\n",
       "      <th>state</th>\n",
       "      <th>age</th>\n",
       "      <th>date_joined</th>\n",
       "      <th>n_dependants</th>\n",
       "      <th>marital_status</th>\n",
       "      <th>income</th>\n",
       "    </tr>\n",
       "  </thead>\n",
       "  <tbody>\n",
       "  </tbody>\n",
       "</table>\n",
       "</div>"
      ],
      "text/plain": [
       "Empty DataFrame\n",
       "Columns: [user_id, first_name, surname, gender, state, age, date_joined, n_dependants, marital_status, income]\n",
       "Index: []"
      ]
     },
     "execution_count": 55,
     "metadata": {},
     "output_type": "execute_result"
    }
   ],
   "source": [
    "#calling out customers_dups to see duplicates\n",
    "customers_dups"
   ]
  },
  {
   "cell_type": "markdown",
   "id": "918773cb-e3b5-4a5b-b495-defb0f87f2ee",
   "metadata": {},
   "source": [
    "No duplicates across all columns, thus all is okay with the dataframe."
   ]
  },
  {
   "cell_type": "markdown",
   "id": "bc14e8a2-7616-4906-9b76-9a75e596cbd6",
   "metadata": {},
   "source": [
    "### 3. merging customer data and prepared Instacart data "
   ]
  },
  {
   "cell_type": "code",
   "execution_count": 57,
   "id": "d2a1c43d-7d1b-47de-a01e-43b67e344520",
   "metadata": {},
   "outputs": [],
   "source": [
    "# Import the latest prepared data from Ex 4.8\n",
    "orders_products = pd.read_pickle(os.path.join(path, '02 Data', 'Prepared Data', 'ords_prods_new.pkl'))"
   ]
  },
  {
   "cell_type": "code",
   "execution_count": 59,
   "id": "c3711ece-3df9-4102-a6e0-e43b17906f4d",
   "metadata": {},
   "outputs": [
    {
     "data": {
      "text/html": [
       "<div>\n",
       "<style scoped>\n",
       "    .dataframe tbody tr th:only-of-type {\n",
       "        vertical-align: middle;\n",
       "    }\n",
       "\n",
       "    .dataframe tbody tr th {\n",
       "        vertical-align: top;\n",
       "    }\n",
       "\n",
       "    .dataframe thead th {\n",
       "        text-align: right;\n",
       "    }\n",
       "</style>\n",
       "<table border=\"1\" class=\"dataframe\">\n",
       "  <thead>\n",
       "    <tr style=\"text-align: right;\">\n",
       "      <th></th>\n",
       "      <th>product_id</th>\n",
       "      <th>product_name</th>\n",
       "      <th>aisle_id</th>\n",
       "      <th>department_id</th>\n",
       "      <th>prices</th>\n",
       "      <th>order_id</th>\n",
       "      <th>user_id</th>\n",
       "      <th>order_number</th>\n",
       "      <th>orders_day_of_week</th>\n",
       "      <th>order_hour_of_day</th>\n",
       "      <th>...</th>\n",
       "      <th>price_range_loc</th>\n",
       "      <th>busiest_day</th>\n",
       "      <th>busiest_days</th>\n",
       "      <th>busiest_period_of_day</th>\n",
       "      <th>max_order</th>\n",
       "      <th>loyalty_flag</th>\n",
       "      <th>mean_product_price</th>\n",
       "      <th>spending_flag</th>\n",
       "      <th>median_days_between_orders</th>\n",
       "      <th>order_frequency</th>\n",
       "    </tr>\n",
       "  </thead>\n",
       "  <tbody>\n",
       "    <tr>\n",
       "      <th>0</th>\n",
       "      <td>1</td>\n",
       "      <td>Chocolate Sandwich Cookies</td>\n",
       "      <td>61</td>\n",
       "      <td>19</td>\n",
       "      <td>5.8</td>\n",
       "      <td>3139998</td>\n",
       "      <td>138</td>\n",
       "      <td>28</td>\n",
       "      <td>6</td>\n",
       "      <td>11</td>\n",
       "      <td>...</td>\n",
       "      <td>Mid-range product</td>\n",
       "      <td>Regularly busy</td>\n",
       "      <td>Regularly busy</td>\n",
       "      <td>Most orders</td>\n",
       "      <td>32</td>\n",
       "      <td>Regular customer</td>\n",
       "      <td>6.935811</td>\n",
       "      <td>Low spender</td>\n",
       "      <td>8.0</td>\n",
       "      <td>Frequent customer</td>\n",
       "    </tr>\n",
       "    <tr>\n",
       "      <th>1</th>\n",
       "      <td>1</td>\n",
       "      <td>Chocolate Sandwich Cookies</td>\n",
       "      <td>61</td>\n",
       "      <td>19</td>\n",
       "      <td>5.8</td>\n",
       "      <td>1977647</td>\n",
       "      <td>138</td>\n",
       "      <td>30</td>\n",
       "      <td>6</td>\n",
       "      <td>17</td>\n",
       "      <td>...</td>\n",
       "      <td>Mid-range product</td>\n",
       "      <td>Regularly busy</td>\n",
       "      <td>Regularly busy</td>\n",
       "      <td>Average orders</td>\n",
       "      <td>32</td>\n",
       "      <td>Regular customer</td>\n",
       "      <td>6.935811</td>\n",
       "      <td>Low spender</td>\n",
       "      <td>8.0</td>\n",
       "      <td>Frequent customer</td>\n",
       "    </tr>\n",
       "    <tr>\n",
       "      <th>2</th>\n",
       "      <td>1</td>\n",
       "      <td>Chocolate Sandwich Cookies</td>\n",
       "      <td>61</td>\n",
       "      <td>19</td>\n",
       "      <td>5.8</td>\n",
       "      <td>389851</td>\n",
       "      <td>709</td>\n",
       "      <td>2</td>\n",
       "      <td>0</td>\n",
       "      <td>21</td>\n",
       "      <td>...</td>\n",
       "      <td>Mid-range product</td>\n",
       "      <td>Busiest day</td>\n",
       "      <td>Busiest days</td>\n",
       "      <td>Average orders</td>\n",
       "      <td>5</td>\n",
       "      <td>New customer</td>\n",
       "      <td>7.930208</td>\n",
       "      <td>Low spender</td>\n",
       "      <td>8.0</td>\n",
       "      <td>Frequent customer</td>\n",
       "    </tr>\n",
       "    <tr>\n",
       "      <th>3</th>\n",
       "      <td>1</td>\n",
       "      <td>Chocolate Sandwich Cookies</td>\n",
       "      <td>61</td>\n",
       "      <td>19</td>\n",
       "      <td>5.8</td>\n",
       "      <td>652770</td>\n",
       "      <td>764</td>\n",
       "      <td>1</td>\n",
       "      <td>3</td>\n",
       "      <td>13</td>\n",
       "      <td>...</td>\n",
       "      <td>Mid-range product</td>\n",
       "      <td>Regularly busy</td>\n",
       "      <td>Slowest days</td>\n",
       "      <td>Most orders</td>\n",
       "      <td>3</td>\n",
       "      <td>New customer</td>\n",
       "      <td>4.972414</td>\n",
       "      <td>Low spender</td>\n",
       "      <td>9.0</td>\n",
       "      <td>Frequent customer</td>\n",
       "    </tr>\n",
       "    <tr>\n",
       "      <th>4</th>\n",
       "      <td>1</td>\n",
       "      <td>Chocolate Sandwich Cookies</td>\n",
       "      <td>61</td>\n",
       "      <td>19</td>\n",
       "      <td>5.8</td>\n",
       "      <td>1813452</td>\n",
       "      <td>764</td>\n",
       "      <td>3</td>\n",
       "      <td>4</td>\n",
       "      <td>17</td>\n",
       "      <td>...</td>\n",
       "      <td>Mid-range product</td>\n",
       "      <td>Least busy</td>\n",
       "      <td>Slowest days</td>\n",
       "      <td>Average orders</td>\n",
       "      <td>3</td>\n",
       "      <td>New customer</td>\n",
       "      <td>4.972414</td>\n",
       "      <td>Low spender</td>\n",
       "      <td>9.0</td>\n",
       "      <td>Frequent customer</td>\n",
       "    </tr>\n",
       "  </tbody>\n",
       "</table>\n",
       "<p>5 rows × 24 columns</p>\n",
       "</div>"
      ],
      "text/plain": [
       "   product_id                product_name  aisle_id  department_id  prices  \\\n",
       "0           1  Chocolate Sandwich Cookies        61             19     5.8   \n",
       "1           1  Chocolate Sandwich Cookies        61             19     5.8   \n",
       "2           1  Chocolate Sandwich Cookies        61             19     5.8   \n",
       "3           1  Chocolate Sandwich Cookies        61             19     5.8   \n",
       "4           1  Chocolate Sandwich Cookies        61             19     5.8   \n",
       "\n",
       "   order_id  user_id  order_number  orders_day_of_week  order_hour_of_day  \\\n",
       "0   3139998      138            28                   6                 11   \n",
       "1   1977647      138            30                   6                 17   \n",
       "2    389851      709             2                   0                 21   \n",
       "3    652770      764             1                   3                 13   \n",
       "4   1813452      764             3                   4                 17   \n",
       "\n",
       "   ...    price_range_loc     busiest_day    busiest_days  \\\n",
       "0  ...  Mid-range product  Regularly busy  Regularly busy   \n",
       "1  ...  Mid-range product  Regularly busy  Regularly busy   \n",
       "2  ...  Mid-range product     Busiest day    Busiest days   \n",
       "3  ...  Mid-range product  Regularly busy    Slowest days   \n",
       "4  ...  Mid-range product      Least busy    Slowest days   \n",
       "\n",
       "  busiest_period_of_day max_order      loyalty_flag mean_product_price  \\\n",
       "0           Most orders        32  Regular customer           6.935811   \n",
       "1        Average orders        32  Regular customer           6.935811   \n",
       "2        Average orders         5      New customer           7.930208   \n",
       "3           Most orders         3      New customer           4.972414   \n",
       "4        Average orders         3      New customer           4.972414   \n",
       "\n",
       "  spending_flag  median_days_between_orders    order_frequency  \n",
       "0   Low spender                         8.0  Frequent customer  \n",
       "1   Low spender                         8.0  Frequent customer  \n",
       "2   Low spender                         8.0  Frequent customer  \n",
       "3   Low spender                         9.0  Frequent customer  \n",
       "4   Low spender                         9.0  Frequent customer  \n",
       "\n",
       "[5 rows x 24 columns]"
      ]
     },
     "execution_count": 59,
     "metadata": {},
     "output_type": "execute_result"
    }
   ],
   "source": [
    "# checking the head of orders_products\n",
    "orders_products.head()"
   ]
  },
  {
   "cell_type": "code",
   "execution_count": 61,
   "id": "1b5b1ff0-b150-41b0-b509-caa1ba9e62df",
   "metadata": {},
   "outputs": [
    {
     "data": {
      "text/html": [
       "<div>\n",
       "<style scoped>\n",
       "    .dataframe tbody tr th:only-of-type {\n",
       "        vertical-align: middle;\n",
       "    }\n",
       "\n",
       "    .dataframe tbody tr th {\n",
       "        vertical-align: top;\n",
       "    }\n",
       "\n",
       "    .dataframe thead th {\n",
       "        text-align: right;\n",
       "    }\n",
       "</style>\n",
       "<table border=\"1\" class=\"dataframe\">\n",
       "  <thead>\n",
       "    <tr style=\"text-align: right;\">\n",
       "      <th></th>\n",
       "      <th>user_id</th>\n",
       "      <th>first_name</th>\n",
       "      <th>surname</th>\n",
       "      <th>gender</th>\n",
       "      <th>state</th>\n",
       "      <th>age</th>\n",
       "      <th>date_joined</th>\n",
       "      <th>n_dependants</th>\n",
       "      <th>marital_status</th>\n",
       "      <th>income</th>\n",
       "    </tr>\n",
       "  </thead>\n",
       "  <tbody>\n",
       "    <tr>\n",
       "      <th>0</th>\n",
       "      <td>26711</td>\n",
       "      <td>Deborah</td>\n",
       "      <td>Esquivel</td>\n",
       "      <td>Female</td>\n",
       "      <td>Missouri</td>\n",
       "      <td>48</td>\n",
       "      <td>1/1/2017</td>\n",
       "      <td>3</td>\n",
       "      <td>married</td>\n",
       "      <td>165665</td>\n",
       "    </tr>\n",
       "    <tr>\n",
       "      <th>1</th>\n",
       "      <td>33890</td>\n",
       "      <td>Patricia</td>\n",
       "      <td>Hart</td>\n",
       "      <td>Female</td>\n",
       "      <td>New Mexico</td>\n",
       "      <td>36</td>\n",
       "      <td>1/1/2017</td>\n",
       "      <td>0</td>\n",
       "      <td>single</td>\n",
       "      <td>59285</td>\n",
       "    </tr>\n",
       "    <tr>\n",
       "      <th>2</th>\n",
       "      <td>65803</td>\n",
       "      <td>Kenneth</td>\n",
       "      <td>Farley</td>\n",
       "      <td>Male</td>\n",
       "      <td>Idaho</td>\n",
       "      <td>35</td>\n",
       "      <td>1/1/2017</td>\n",
       "      <td>2</td>\n",
       "      <td>married</td>\n",
       "      <td>99568</td>\n",
       "    </tr>\n",
       "    <tr>\n",
       "      <th>3</th>\n",
       "      <td>125935</td>\n",
       "      <td>Michelle</td>\n",
       "      <td>Hicks</td>\n",
       "      <td>Female</td>\n",
       "      <td>Iowa</td>\n",
       "      <td>40</td>\n",
       "      <td>1/1/2017</td>\n",
       "      <td>0</td>\n",
       "      <td>single</td>\n",
       "      <td>42049</td>\n",
       "    </tr>\n",
       "    <tr>\n",
       "      <th>4</th>\n",
       "      <td>130797</td>\n",
       "      <td>Ann</td>\n",
       "      <td>Gilmore</td>\n",
       "      <td>Female</td>\n",
       "      <td>Maryland</td>\n",
       "      <td>26</td>\n",
       "      <td>1/1/2017</td>\n",
       "      <td>1</td>\n",
       "      <td>married</td>\n",
       "      <td>40374</td>\n",
       "    </tr>\n",
       "  </tbody>\n",
       "</table>\n",
       "</div>"
      ],
      "text/plain": [
       "  user_id first_name   surname  gender       state  age date_joined  \\\n",
       "0   26711    Deborah  Esquivel  Female    Missouri   48    1/1/2017   \n",
       "1   33890   Patricia      Hart  Female  New Mexico   36    1/1/2017   \n",
       "2   65803    Kenneth    Farley    Male       Idaho   35    1/1/2017   \n",
       "3  125935   Michelle     Hicks  Female        Iowa   40    1/1/2017   \n",
       "4  130797        Ann   Gilmore  Female    Maryland   26    1/1/2017   \n",
       "\n",
       "   n_dependants marital_status  income  \n",
       "0             3        married  165665  \n",
       "1             0         single   59285  \n",
       "2             2        married   99568  \n",
       "3             0         single   42049  \n",
       "4             1        married   40374  "
      ]
     },
     "execution_count": 61,
     "metadata": {},
     "output_type": "execute_result"
    }
   ],
   "source": [
    "# check the head for customers dataframe\n",
    "customers.head()"
   ]
  },
  {
   "cell_type": "markdown",
   "id": "0c613d84-4b9c-41d8-8abe-365e2a3fdd6d",
   "metadata": {},
   "source": [
    "Both dataframes got 'user_id' as a common variable and can be used to merge the dataframes"
   ]
  },
  {
   "cell_type": "code",
   "execution_count": 146,
   "id": "30c9ea8c-35cc-4953-9878-1b0458ab0140",
   "metadata": {},
   "outputs": [
    {
     "data": {
      "text/plain": [
       "dtype('O')"
      ]
     },
     "execution_count": 146,
     "metadata": {},
     "output_type": "execute_result"
    }
   ],
   "source": [
    "#checking if the datatype for 'user_id' is tyhe same for the two dataframes\n",
    "customers.dtypes['user_id']"
   ]
  },
  {
   "cell_type": "code",
   "execution_count": 155,
   "id": "3a04779d-9a20-4f9b-abff-2c57f4764a32",
   "metadata": {},
   "outputs": [
    {
     "data": {
      "text/plain": [
       "dtype('O')"
      ]
     },
     "execution_count": 155,
     "metadata": {},
     "output_type": "execute_result"
    }
   ],
   "source": [
    "orders_products.dtypes['user_id']"
   ]
  },
  {
   "cell_type": "code",
   "execution_count": 63,
   "id": "39ac9e21-26bc-4d6a-bd64-a5888a6de6cb",
   "metadata": {},
   "outputs": [],
   "source": [
    "# Convert 'user_id' under orders_products to string\n",
    "orders_products['user_id'] = orders_products['user_id'].astype('str')"
   ]
  },
  {
   "cell_type": "code",
   "execution_count": 64,
   "id": "fee6ec01-ecb9-44b5-bfd1-bbf1f1383cb7",
   "metadata": {},
   "outputs": [
    {
     "data": {
      "text/plain": [
       "dtype('O')"
      ]
     },
     "execution_count": 64,
     "metadata": {},
     "output_type": "execute_result"
    }
   ],
   "source": [
    "#Check again the data type for 'user_id' under orders_products\n",
    "orders_products.dtypes['user_id']"
   ]
  },
  {
   "cell_type": "code",
   "execution_count": 67,
   "id": "6434bbfd-14c3-4aea-9117-a493539fdc15",
   "metadata": {},
   "outputs": [],
   "source": [
    "# Doing away with'_merge' column from previous merging exercises\n",
    "orders_products = orders_products.drop(columns=['_merge'])"
   ]
  },
  {
   "cell_type": "code",
   "execution_count": 173,
   "id": "62a5cc0b-fd7e-4001-94da-f7019c3942c4",
   "metadata": {},
   "outputs": [],
   "source": [
    "# Using inner join to merge the two dataframes using the column 'user_id' as the key\n"
   ]
  },
  {
   "cell_type": "code",
   "execution_count": 69,
   "id": "b38ff324-1da9-45d7-bb44-02eb8731c4b5",
   "metadata": {},
   "outputs": [],
   "source": [
    "# Using inner join to merge the two dataframes using the column 'user_id' as the key.\n",
    "customers_ords_prods = orders_products.merge(customers, on = 'user_id', indicator = True)"
   ]
  },
  {
   "cell_type": "code",
   "execution_count": 73,
   "id": "7b5abd99-eb0b-44bc-9bb3-3203e6db6856",
   "metadata": {},
   "outputs": [
    {
     "data": {
      "text/plain": [
       "(32434212, 33)"
      ]
     },
     "execution_count": 73,
     "metadata": {},
     "output_type": "execute_result"
    }
   ],
   "source": [
    "#Checking the shape for the customers_ords_prods\n",
    "customers_ords_prods.shape"
   ]
  },
  {
   "cell_type": "markdown",
   "id": "345e212f-e395-43f9-8163-bc611c615259",
   "metadata": {},
   "source": [
    "### 4. Export this new dataframe as a pickle file"
   ]
  },
  {
   "cell_type": "code",
   "execution_count": 170,
   "id": "c3107ad5-7376-4389-9d73-8794ccae4dd8",
   "metadata": {},
   "outputs": [],
   "source": [
    "customers_ords_prods.to_pickle(os.path.join(path, '02 Data','Prepared Data', 'customers_ords_prods.pkl'))"
   ]
  },
  {
   "cell_type": "code",
   "execution_count": null,
   "id": "77e91ae4-1fba-4f0c-988d-2bea3827b7a4",
   "metadata": {},
   "outputs": [],
   "source": []
  }
 ],
 "metadata": {
  "kernelspec": {
   "display_name": "Python 3 (ipykernel)",
   "language": "python",
   "name": "python3"
  },
  "language_info": {
   "codemirror_mode": {
    "name": "ipython",
    "version": 3
   },
   "file_extension": ".py",
   "mimetype": "text/x-python",
   "name": "python",
   "nbconvert_exporter": "python",
   "pygments_lexer": "ipython3",
   "version": "3.12.4"
  }
 },
 "nbformat": 4,
 "nbformat_minor": 5
}
